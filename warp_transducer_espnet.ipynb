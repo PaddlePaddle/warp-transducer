{
 "cells": [
  {
   "cell_type": "code",
   "execution_count": 1,
   "id": "6b5da7d5-8ed0-47cc-96d6-332d36b49365",
   "metadata": {},
   "outputs": [],
   "source": [
    "import warprnnt_pytorch\n",
    "import torch"
   ]
  },
  {
   "cell_type": "code",
   "execution_count": 2,
   "id": "ac6a2393-f36e-46d0-8b39-09755c7c0026",
   "metadata": {},
   "outputs": [],
   "source": [
    "device = torch.device('cuda', 0)"
   ]
  },
  {
   "cell_type": "code",
   "execution_count": 3,
   "id": "de1e256f-9fac-444e-a8a1-7ad11c2a6116",
   "metadata": {},
   "outputs": [],
   "source": [
    "logits = torch.FloatTensor([[[[0.1, 0.6, 0.1, 0.1, 0.1],\n",
    "                              [0.1, 0.1, 0.6, 0.1, 0.1],\n",
    "                              [0.1, 0.1, 0.2, 0.8, 0.1]],\n",
    "                              [[0.1, 0.6, 0.1, 0.1, 0.1],\n",
    "                              [0.1, 0.1, 0.2, 0.1, 0.1],\n",
    "                              [0.7, 0.1, 0.2, 0.1, 0.1]]]])\n",
    "warp_transducer_logits = logits.clone()\n",
    "torchaudio_logits = logits.clone()\n",
    "optimized_transducer_logits = logits.clone()\n",
    "\n",
    "logits_cuda = logits.to(device)\n",
    "warp_transducer_logits_cuda = logits_cuda.clone()\n",
    "torchaudio_logits_cuda = logits_cuda.clone()\n",
    "optimized_transducer_logits_cuda = logits_cuda.clone()\n",
    "\n",
    "\n",
    "targets = torch.tensor([[1, 2]], dtype=torch.int32)\n",
    "logit_lengths = torch.tensor([2], dtype=torch.int32)\n",
    "target_lengths = torch.tensor([2], dtype=torch.int32)\n",
    "\n",
    "targets_cuda = targets.to(device)\n",
    "logit_lengths_cuda = logit_lengths.to(device)\n",
    "target_lengths_cuda = target_lengths.to(device)"
   ]
  },
  {
   "cell_type": "code",
   "execution_count": 4,
   "id": "cdb3b6fa-5cd2-45d7-92b9-77c65468b33d",
   "metadata": {},
   "outputs": [
    {
     "name": "stdout",
     "output_type": "stream",
     "text": [
      "torch.Size([1, 2, 3, 5])\n"
     ]
    }
   ],
   "source": [
    "print(logits.shape)"
   ]
  },
  {
   "cell_type": "code",
   "execution_count": 5,
   "id": "4016689c-93ec-4ce6-b062-6049b1bf5f6d",
   "metadata": {},
   "outputs": [
    {
     "data": {
      "text/plain": [
       "tensor([[[[0.1000, 0.6000, 0.1000, 0.1000, 0.1000],\n",
       "          [0.1000, 0.1000, 0.6000, 0.1000, 0.1000],\n",
       "          [0.1000, 0.1000, 0.2000, 0.8000, 0.1000]],\n",
       "\n",
       "         [[0.1000, 0.6000, 0.1000, 0.1000, 0.1000],\n",
       "          [0.1000, 0.1000, 0.2000, 0.1000, 0.1000],\n",
       "          [0.7000, 0.1000, 0.2000, 0.1000, 0.1000]]]], device='cuda:0',\n",
       "       requires_grad=True)"
      ]
     },
     "execution_count": 5,
     "metadata": {},
     "output_type": "execute_result"
    }
   ],
   "source": [
    "warp_transducer_logits.requires_grad_(True)\n",
    "torchaudio_logits.requires_grad_(True)\n",
    "optimized_transducer_logits.requires_grad_(True)\n",
    "\n",
    "warp_transducer_logits_cuda.requires_grad_(True)\n",
    "torchaudio_logits_cuda.requires_grad_(True)\n",
    "optimized_transducer_logits_cuda.requires_grad_(True)"
   ]
  },
  {
   "cell_type": "code",
   "execution_count": 6,
   "id": "80b9d69c-1e29-41e6-bbb8-e73d72439a3a",
   "metadata": {},
   "outputs": [],
   "source": [
    "warp_transducer_cpu_loss = warprnnt_pytorch.rnnt_loss(warp_transducer_logits, \n",
    "                                                      targets, \n",
    "                                                      logit_lengths, \n",
    "                                                      target_lengths,\n",
    "                                                      blank=0,\n",
    "                                                      reduction='mean',\n",
    "                                                      fastemit_lambda=0)\n",
    "\n",
    "warp_transducer_cuda_loss = warprnnt_pytorch.rnnt_loss(warp_transducer_logits_cuda, \n",
    "                                                       targets_cuda, \n",
    "                                                       logit_lengths_cuda, \n",
    "                                                       target_lengths_cuda,\n",
    "                                                       blank=0,\n",
    "                                                       reduction='mean',\n",
    "                                                       fastemit_lambda=0)"
   ]
  },
  {
   "cell_type": "code",
   "execution_count": 7,
   "id": "e813779e-03a5-4d8a-a992-c686f74c415d",
   "metadata": {},
   "outputs": [
    {
     "name": "stdout",
     "output_type": "stream",
     "text": [
      "warp_transducer, cpu_loss: tensor([4.4957], grad_fn=<_RNNTBackward>), cuda_loss: tensor([4.4957], device='cuda:0', grad_fn=<_RNNTBackward>)\n"
     ]
    }
   ],
   "source": [
    "print(f'warp_transducer, cpu_loss: {warp_transducer_cpu_loss}, cuda_loss: {warp_transducer_cuda_loss}')"
   ]
  },
  {
   "cell_type": "code",
   "execution_count": 8,
   "id": "52b67c01-51a9-4cdc-a400-c87d1db32ce9",
   "metadata": {},
   "outputs": [],
   "source": [
    "warp_transducer_cpu_loss.backward()\n",
    "warp_transducer_cuda_loss.backward()\n"
   ]
  },
  {
   "cell_type": "code",
   "execution_count": 9,
   "id": "97b04245-cc40-4e41-8ccc-df8eb70d07a9",
   "metadata": {},
   "outputs": [
    {
     "name": "stdout",
     "output_type": "stream",
     "text": [
      "tensor([[[[-0.1312, -0.3999,  0.1770,  0.1770,  0.1770],\n",
      "          [-0.1857,  0.1225, -0.1817,  0.1225,  0.1225],\n",
      "          [-0.3209,  0.0627,  0.0693,  0.1262,  0.0627]],\n",
      "\n",
      "         [[ 0.0546, -0.2182,  0.0546,  0.0546,  0.0546],\n",
      "          [ 0.1207,  0.1207, -0.4830,  0.1207,  0.1207],\n",
      "          [-0.6926,  0.1687,  0.1865,  0.1687,  0.1687]]]])\n",
      "cpu\n"
     ]
    }
   ],
   "source": [
    "print(warp_transducer_logits.grad)\n",
    "print(warp_transducer_logits.grad.device)"
   ]
  },
  {
   "cell_type": "code",
   "execution_count": 10,
   "id": "ab1906a6-903b-4339-96b2-10676c9cd55a",
   "metadata": {},
   "outputs": [
    {
     "name": "stdout",
     "output_type": "stream",
     "text": [
      "tensor([[[[-0.1312, -0.3999,  0.1770,  0.1770,  0.1770],\n",
      "          [-0.1857,  0.1225, -0.1817,  0.1225,  0.1225],\n",
      "          [-0.3209,  0.0627,  0.0693,  0.1262,  0.0627]],\n",
      "\n",
      "         [[ 0.0546, -0.2182,  0.0546,  0.0546,  0.0546],\n",
      "          [ 0.1207,  0.1207, -0.4830,  0.1207,  0.1207],\n",
      "          [-0.6926,  0.1687,  0.1865,  0.1687,  0.1687]]]], device='cuda:0')\n",
      "cuda:0\n"
     ]
    }
   ],
   "source": [
    "print(warp_transducer_logits_cuda.grad)\n",
    "print(warp_transducer_logits_cuda.grad.device)"
   ]
  },
  {
   "cell_type": "code",
   "execution_count": 18,
   "id": "8fc126d5-70eb-4d3f-8230-75d644fe16b8",
   "metadata": {},
   "outputs": [
    {
     "name": "stdout",
     "output_type": "stream",
     "text": [
      "Requirement already satisfied: pip in /workspace/DeepSpeech-2.x/tools/venv/lib/python3.7/site-packages (22.2)\n",
      "Looking in indexes: https://pypi.tuna.tsinghua.edu.cn/simple\n",
      "Requirement already satisfied: torchaudio in /workspace/DeepSpeech-2.x/tools/venv/lib/python3.7/site-packages (0.12.0)\n",
      "Requirement already satisfied: torch==1.12.0 in /workspace/DeepSpeech-2.x/tools/venv/lib/python3.7/site-packages (from torchaudio) (1.12.0)\n",
      "Requirement already satisfied: typing-extensions in /workspace/DeepSpeech-2.x/tools/venv/lib/python3.7/site-packages (from torch==1.12.0->torchaudio) (4.3.0)\n"
     ]
    }
   ],
   "source": [
    "!pip install --upgrade pip \n",
    "# !pip uninstall torchaudio -y\n",
    "!pip install torchaudio -i https://pypi.tuna.tsinghua.edu.cn/simple"
   ]
  },
  {
   "cell_type": "code",
   "execution_count": 11,
   "id": "15ed37df-1912-4201-b770-75e7895b755c",
   "metadata": {},
   "outputs": [
    {
     "name": "stderr",
     "output_type": "stream",
     "text": [
      "/workspace/DeepSpeech-2.x/tools/venv/lib/python3.7/site-packages/torchaudio/_internal/module_utils.py:99: UserWarning: Failed to import soundfile. 'soundfile' backend is not available.\n",
      "  warnings.warn(\"Failed to import soundfile. 'soundfile' backend is not available.\")\n"
     ]
    }
   ],
   "source": [
    "import torchaudio"
   ]
  },
  {
   "cell_type": "code",
   "execution_count": 12,
   "id": "a71d98b1-ea2a-4248-852b-649986ea0883",
   "metadata": {},
   "outputs": [],
   "source": [
    "torchaudio_cpu_loss = torchaudio.functional.rnnt_loss(torchaudio_logits,\n",
    "                                                      targets,\n",
    "                                                      logit_lengths,\n",
    "                                                      target_lengths,\n",
    "                                                      blank=0,\n",
    "                                                      reduction='mean'\n",
    "                                                      )\n",
    "\n",
    "torchaudio_cuda_loss = torchaudio.functional.rnnt_loss(torchaudio_logits_cuda,\n",
    "                                                       targets_cuda,\n",
    "                                                       logit_lengths_cuda,\n",
    "                                                       target_lengths_cuda,\n",
    "                                                       blank=0,\n",
    "                                                       reduction='mean'\n",
    "                                                       )"
   ]
  },
  {
   "cell_type": "code",
   "execution_count": 13,
   "id": "ce39d7f1-f324-4018-9534-dd9eaffacb07",
   "metadata": {},
   "outputs": [
    {
     "name": "stdout",
     "output_type": "stream",
     "text": [
      "torchaudio, cpu_loss: 4.495666980743408, cuda_loss: 4.49566650390625\n"
     ]
    }
   ],
   "source": [
    "print(f'torchaudio, cpu_loss: {torchaudio_cpu_loss}, cuda_loss: {torchaudio_cuda_loss}')"
   ]
  },
  {
   "cell_type": "code",
   "execution_count": 14,
   "id": "d921805d-64d4-43b3-b744-7cef8d25a5ae",
   "metadata": {},
   "outputs": [],
   "source": [
    "torchaudio_cpu_loss.backward()\n",
    "torchaudio_cuda_loss.backward()"
   ]
  },
  {
   "cell_type": "code",
   "execution_count": 15,
   "id": "353c9001-46e0-4d56-890d-8a1f517ff8fc",
   "metadata": {},
   "outputs": [
    {
     "name": "stdout",
     "output_type": "stream",
     "text": [
      "tensor([[[[-0.1312, -0.3999,  0.1770,  0.1770,  0.1770],\n",
      "          [-0.1857,  0.1225, -0.1817,  0.1225,  0.1225],\n",
      "          [-0.3209,  0.0627,  0.0693,  0.1262,  0.0627]],\n",
      "\n",
      "         [[ 0.0546, -0.2182,  0.0546,  0.0546,  0.0546],\n",
      "          [ 0.1207,  0.1207, -0.4830,  0.1207,  0.1207],\n",
      "          [-0.6926,  0.1687,  0.1865,  0.1687,  0.1687]]]])\n"
     ]
    }
   ],
   "source": [
    "print(torchaudio_logits.grad)"
   ]
  },
  {
   "cell_type": "code",
   "execution_count": 16,
   "id": "2157ac5e-a0a3-4fde-9606-e5646907ea61",
   "metadata": {},
   "outputs": [
    {
     "name": "stdout",
     "output_type": "stream",
     "text": [
      "tensor([[[[-0.1312, -0.3999,  0.1770,  0.1770,  0.1770],\n",
      "          [-0.1857,  0.1225, -0.1817,  0.1225,  0.1225],\n",
      "          [-0.3209,  0.0627,  0.0693,  0.1262,  0.0627]],\n",
      "\n",
      "         [[ 0.0546, -0.2182,  0.0546,  0.0546,  0.0546],\n",
      "          [ 0.1207,  0.1207, -0.4830,  0.1207,  0.1207],\n",
      "          [-0.6926,  0.1687,  0.1865,  0.1687,  0.1687]]]], device='cuda:0')\n"
     ]
    }
   ],
   "source": [
    "print(torchaudio_logits_cuda.grad)"
   ]
  },
  {
   "cell_type": "code",
   "execution_count": null,
   "id": "0b729bec-94a9-4148-9782-2ae109e16f23",
   "metadata": {},
   "outputs": [],
   "source": []
  }
 ],
 "metadata": {
  "kernelspec": {
   "display_name": "Python 3 (ipykernel)",
   "language": "python",
   "name": "python3"
  },
  "language_info": {
   "codemirror_mode": {
    "name": "ipython",
    "version": 3
   },
   "file_extension": ".py",
   "mimetype": "text/x-python",
   "name": "python",
   "nbconvert_exporter": "python",
   "pygments_lexer": "ipython3",
   "version": "3.7.0"
  }
 },
 "nbformat": 4,
 "nbformat_minor": 5
}
