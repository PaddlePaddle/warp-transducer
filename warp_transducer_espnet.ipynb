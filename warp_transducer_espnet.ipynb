{
 "cells": [
  {
   "cell_type": "code",
   "execution_count": 22,
   "id": "82846047-59b5-4780-b5ca-f933e0fdd145",
   "metadata": {},
   "outputs": [],
   "source": [
    "# https://colab.research.google.com/drive/1vMkH8LmiCCOiCo4KTTEcv-NU8_OGn0ie?usp=sharing#scrollTo=s3ucr4kRmBKk"
   ]
  },
  {
   "cell_type": "code",
   "execution_count": 49,
   "id": "6b5da7d5-8ed0-47cc-96d6-332d36b49365",
   "metadata": {},
   "outputs": [],
   "source": [
    "# torch==1.11.0\n",
    "import warprnnt_pytorch\n",
    "import torch\n",
    "import numpy as np"
   ]
  },
  {
   "cell_type": "code",
   "execution_count": 50,
   "id": "ac6a2393-f36e-46d0-8b39-09755c7c0026",
   "metadata": {},
   "outputs": [],
   "source": [
    "device = torch.device('cuda', 0)"
   ]
  },
  {
   "cell_type": "code",
   "execution_count": 51,
   "id": "de1e256f-9fac-444e-a8a1-7ad11c2a6116",
   "metadata": {},
   "outputs": [],
   "source": [
    "logits = torch.FloatTensor([[[[0.1, 0.6, 0.1, 0.1, 0.1],\n",
    "                              [0.1, 0.1, 0.6, 0.1, 0.1],\n",
    "                              [0.1, 0.1, 0.2, 0.8, 0.1]],\n",
    "                              [[0.1, 0.6, 0.1, 0.1, 0.1],\n",
    "                              [0.1, 0.1, 0.2, 0.1, 0.1],\n",
    "                              [0.7, 0.1, 0.2, 0.1, 0.1]]]])\n",
    "warp_transducer_logits = logits.clone()\n",
    "torchaudio_logits = logits.clone()\n",
    "optimized_transducer_logits = logits.clone()\n",
    "\n",
    "logits_cuda = logits.to(device)\n",
    "warp_transducer_logits_cuda = logits_cuda.clone()\n",
    "torchaudio_logits_cuda = logits_cuda.clone()\n",
    "optimized_transducer_logits_cuda = logits_cuda.clone()\n",
    "\n",
    "\n",
    "targets = torch.tensor([[1, 2]], dtype=torch.int32)\n",
    "logit_lengths = torch.tensor([2], dtype=torch.int32)\n",
    "target_lengths = torch.tensor([2], dtype=torch.int32)\n",
    "\n",
    "targets_cuda = targets.to(device)\n",
    "logit_lengths_cuda = logit_lengths.to(device)\n",
    "target_lengths_cuda = target_lengths.to(device)"
   ]
  },
  {
   "cell_type": "code",
   "execution_count": 52,
   "id": "cdb3b6fa-5cd2-45d7-92b9-77c65468b33d",
   "metadata": {},
   "outputs": [
    {
     "name": "stdout",
     "output_type": "stream",
     "text": [
      "torch.Size([1, 2, 3, 5])\n",
      "torch.Size([1])\n",
      "torch.Size([1, 2])\n",
      "torch.Size([1])\n"
     ]
    }
   ],
   "source": [
    "print(logits.shape)\n",
    "print(logit_lengths.shape)\n",
    "print(targets.shape)\n",
    "print(target_lengths.shape)"
   ]
  },
  {
   "cell_type": "code",
   "execution_count": 53,
   "id": "4016689c-93ec-4ce6-b062-6049b1bf5f6d",
   "metadata": {},
   "outputs": [
    {
     "data": {
      "text/plain": [
       "tensor([[[[0.1000, 0.6000, 0.1000, 0.1000, 0.1000],\n",
       "          [0.1000, 0.1000, 0.6000, 0.1000, 0.1000],\n",
       "          [0.1000, 0.1000, 0.2000, 0.8000, 0.1000]],\n",
       "\n",
       "         [[0.1000, 0.6000, 0.1000, 0.1000, 0.1000],\n",
       "          [0.1000, 0.1000, 0.2000, 0.1000, 0.1000],\n",
       "          [0.7000, 0.1000, 0.2000, 0.1000, 0.1000]]]], device='cuda:0',\n",
       "       requires_grad=True)"
      ]
     },
     "execution_count": 53,
     "metadata": {},
     "output_type": "execute_result"
    }
   ],
   "source": [
    "warp_transducer_logits.requires_grad_(True)\n",
    "torchaudio_logits.requires_grad_(True)\n",
    "optimized_transducer_logits.requires_grad_(True)\n",
    "\n",
    "warp_transducer_logits_cuda.requires_grad_(True)\n",
    "torchaudio_logits_cuda.requires_grad_(True)\n",
    "optimized_transducer_logits_cuda.requires_grad_(True)"
   ]
  },
  {
   "cell_type": "markdown",
   "id": "f267a5e9-b936-4c3c-9472-3691f3da8e0a",
   "metadata": {},
   "source": [
    "# warp_transducer"
   ]
  },
  {
   "cell_type": "code",
   "execution_count": 54,
   "id": "80b9d69c-1e29-41e6-bbb8-e73d72439a3a",
   "metadata": {},
   "outputs": [],
   "source": [
    "warp_transducer_cpu_loss = warprnnt_pytorch.rnnt_loss(warp_transducer_logits, \n",
    "                                                      targets, \n",
    "                                                      logit_lengths, \n",
    "                                                      target_lengths,\n",
    "                                                      blank=0,\n",
    "                                                      reduction='mean',\n",
    "                                                      fastemit_lambda=0)\n",
    "\n",
    "warp_transducer_cuda_loss = warprnnt_pytorch.rnnt_loss(warp_transducer_logits_cuda, \n",
    "                                                       targets_cuda, \n",
    "                                                       logit_lengths_cuda, \n",
    "                                                       target_lengths_cuda,\n",
    "                                                       blank=0,\n",
    "                                                       reduction='mean',\n",
    "                                                       fastemit_lambda=0)"
   ]
  },
  {
   "cell_type": "code",
   "execution_count": 55,
   "id": "e813779e-03a5-4d8a-a992-c686f74c415d",
   "metadata": {},
   "outputs": [
    {
     "name": "stdout",
     "output_type": "stream",
     "text": [
      "warp_transducer, cpu_loss: tensor([4.4957], grad_fn=<_RNNTBackward>), cuda_loss: tensor([4.4957], device='cuda:0', grad_fn=<_RNNTBackward>)\n"
     ]
    }
   ],
   "source": [
    "print(f'warp_transducer, cpu_loss: {warp_transducer_cpu_loss}, cuda_loss: {warp_transducer_cuda_loss}')"
   ]
  },
  {
   "cell_type": "code",
   "execution_count": 56,
   "id": "9f2e7765-f0e1-41a5-b829-7a824a24b95b",
   "metadata": {},
   "outputs": [],
   "source": [
    "np.testing.assert_allclose(warp_transducer_cpu_loss.detach().numpy(), warp_transducer_cuda_loss.cpu().detach().numpy(), rtol=1e-7)"
   ]
  },
  {
   "cell_type": "code",
   "execution_count": 57,
   "id": "52b67c01-51a9-4cdc-a400-c87d1db32ce9",
   "metadata": {},
   "outputs": [],
   "source": [
    "warp_transducer_cpu_loss.backward()\n",
    "warp_transducer_cuda_loss.backward()"
   ]
  },
  {
   "cell_type": "code",
   "execution_count": 58,
   "id": "97b04245-cc40-4e41-8ccc-df8eb70d07a9",
   "metadata": {},
   "outputs": [
    {
     "name": "stdout",
     "output_type": "stream",
     "text": [
      "tensor([[[[-0.1312, -0.3999,  0.1770,  0.1770,  0.1770],\n",
      "          [-0.1857,  0.1225, -0.1817,  0.1225,  0.1225],\n",
      "          [-0.3209,  0.0627,  0.0693,  0.1262,  0.0627]],\n",
      "\n",
      "         [[ 0.0546, -0.2182,  0.0546,  0.0546,  0.0546],\n",
      "          [ 0.1207,  0.1207, -0.4830,  0.1207,  0.1207],\n",
      "          [-0.6926,  0.1687,  0.1865,  0.1687,  0.1687]]]])\n",
      "torch.Size([1, 2, 3, 5])\n",
      "cpu\n"
     ]
    }
   ],
   "source": [
    "print(warp_transducer_logits.grad)\n",
    "print(warp_transducer_logits.grad.shape)\n",
    "print(warp_transducer_logits.grad.device)"
   ]
  },
  {
   "cell_type": "code",
   "execution_count": 59,
   "id": "ab1906a6-903b-4339-96b2-10676c9cd55a",
   "metadata": {},
   "outputs": [
    {
     "name": "stdout",
     "output_type": "stream",
     "text": [
      "tensor([[[[-0.1312, -0.3999,  0.1770,  0.1770,  0.1770],\n",
      "          [-0.1857,  0.1225, -0.1817,  0.1225,  0.1225],\n",
      "          [-0.3209,  0.0627,  0.0693,  0.1262,  0.0627]],\n",
      "\n",
      "         [[ 0.0546, -0.2182,  0.0546,  0.0546,  0.0546],\n",
      "          [ 0.1207,  0.1207, -0.4830,  0.1207,  0.1207],\n",
      "          [-0.6926,  0.1687,  0.1865,  0.1687,  0.1687]]]], device='cuda:0')\n",
      "cuda:0\n"
     ]
    }
   ],
   "source": [
    "print(warp_transducer_logits_cuda.grad)\n",
    "print(warp_transducer_logits_cuda.grad.device)"
   ]
  },
  {
   "cell_type": "code",
   "execution_count": 60,
   "id": "7d30b578-b87b-42cb-a5cf-025e3755be21",
   "metadata": {},
   "outputs": [],
   "source": [
    "np.testing.assert_allclose(warp_transducer_logits.grad.numpy(), warp_transducer_logits_cuda.grad.cpu().numpy(), rtol=1e-6)"
   ]
  },
  {
   "cell_type": "markdown",
   "id": "e4a2d1bd-6769-46a9-a8dc-2b18b197639d",
   "metadata": {},
   "source": [
    "# torchaudio"
   ]
  },
  {
   "cell_type": "code",
   "execution_count": 13,
   "id": "8fc126d5-70eb-4d3f-8230-75d644fe16b8",
   "metadata": {},
   "outputs": [
    {
     "name": "stdout",
     "output_type": "stream",
     "text": [
      "Requirement already satisfied: pip in /workspace/DeepSpeech-2.x/speechx/venv/lib/python3.7/site-packages (22.3.1)\n",
      "Looking in indexes: https://pypi.tuna.tsinghua.edu.cn/simple\n",
      "Collecting torchaudio==0.11.0\n",
      "  Downloading https://pypi.tuna.tsinghua.edu.cn/packages/67/79/50f2e30bb04a466597a2f284724c6720299491d3eb98b37cbba18cb48656/torchaudio-0.11.0-cp37-cp37m-manylinux1_x86_64.whl (2.9 MB)\n",
      "\u001b[2K     \u001b[90m━━━━━━━━━━━━━━━━━━━━━━━━━━━━━━━━━━━━━━━━\u001b[0m \u001b[32m2.9/2.9 MB\u001b[0m \u001b[31m603.7 kB/s\u001b[0m eta \u001b[36m0:00:00\u001b[0m00:01\u001b[0m00:01\u001b[0m\n",
      "\u001b[?25hRequirement already satisfied: torch==1.11.0 in /workspace/DeepSpeech-2.x/speechx/venv/lib/python3.7/site-packages (from torchaudio==0.11.0) (1.11.0)\n",
      "Requirement already satisfied: typing-extensions in /workspace/DeepSpeech-2.x/speechx/venv/lib/python3.7/site-packages (from torch==1.11.0->torchaudio==0.11.0) (4.4.0)\n",
      "Installing collected packages: torchaudio\n",
      "Successfully installed torchaudio-0.11.0\n"
     ]
    }
   ],
   "source": [
    "!pip install --upgrade pip \n",
    "# !pip uninstall torchaudio -y\n",
    "!TMPDIR=$PWD pip install torchaudio==0.11.0 -i https://pypi.tuna.tsinghua.edu.cn/simple"
   ]
  },
  {
   "cell_type": "code",
   "execution_count": 61,
   "id": "15ed37df-1912-4201-b770-75e7895b755c",
   "metadata": {},
   "outputs": [],
   "source": [
    "import torchaudio"
   ]
  },
  {
   "cell_type": "code",
   "execution_count": 62,
   "id": "a71d98b1-ea2a-4248-852b-649986ea0883",
   "metadata": {},
   "outputs": [],
   "source": [
    "torchaudio_cpu_loss = torchaudio.functional.rnnt_loss(torchaudio_logits,\n",
    "                                                      targets,\n",
    "                                                      logit_lengths,\n",
    "                                                      target_lengths,\n",
    "                                                      blank=0,\n",
    "                                                      reduction='mean'\n",
    "                                                      )\n",
    "\n",
    "torchaudio_cuda_loss = torchaudio.functional.rnnt_loss(torchaudio_logits_cuda,\n",
    "                                                       targets_cuda,\n",
    "                                                       logit_lengths_cuda,\n",
    "                                                       target_lengths_cuda,\n",
    "                                                       blank=0,\n",
    "                                                       reduction='mean'\n",
    "                                                       )"
   ]
  },
  {
   "cell_type": "code",
   "execution_count": 63,
   "id": "ce39d7f1-f324-4018-9534-dd9eaffacb07",
   "metadata": {},
   "outputs": [
    {
     "name": "stdout",
     "output_type": "stream",
     "text": [
      "torchaudio, cpu_loss: 4.495666980743408, cuda_loss: 4.49566650390625\n"
     ]
    }
   ],
   "source": [
    "print(f'torchaudio, cpu_loss: {torchaudio_cpu_loss}, cuda_loss: {torchaudio_cuda_loss}')"
   ]
  },
  {
   "cell_type": "code",
   "execution_count": 64,
   "id": "59c01a88-46fd-4fef-a980-127c961029ec",
   "metadata": {},
   "outputs": [],
   "source": [
    "np.testing.assert_allclose(torchaudio_cpu_loss.detach().numpy(), torchaudio_cuda_loss.cpu().detach().numpy(), rtol=1e-6)"
   ]
  },
  {
   "cell_type": "code",
   "execution_count": 65,
   "id": "d921805d-64d4-43b3-b744-7cef8d25a5ae",
   "metadata": {},
   "outputs": [],
   "source": [
    "torchaudio_cpu_loss.backward()\n",
    "torchaudio_cuda_loss.backward()"
   ]
  },
  {
   "cell_type": "code",
   "execution_count": 66,
   "id": "353c9001-46e0-4d56-890d-8a1f517ff8fc",
   "metadata": {},
   "outputs": [
    {
     "name": "stdout",
     "output_type": "stream",
     "text": [
      "tensor([[[[-0.1312, -0.3999,  0.1770,  0.1770,  0.1770],\n",
      "          [-0.1857,  0.1225, -0.1817,  0.1225,  0.1225],\n",
      "          [-0.3209,  0.0627,  0.0693,  0.1262,  0.0627]],\n",
      "\n",
      "         [[ 0.0546, -0.2182,  0.0546,  0.0546,  0.0546],\n",
      "          [ 0.1207,  0.1207, -0.4830,  0.1207,  0.1207],\n",
      "          [-0.6926,  0.1687,  0.1865,  0.1687,  0.1687]]]])\n"
     ]
    }
   ],
   "source": [
    "print(torchaudio_logits.grad)"
   ]
  },
  {
   "cell_type": "code",
   "execution_count": 67,
   "id": "2157ac5e-a0a3-4fde-9606-e5646907ea61",
   "metadata": {},
   "outputs": [
    {
     "name": "stdout",
     "output_type": "stream",
     "text": [
      "tensor([[[[-0.1312, -0.3999,  0.1770,  0.1770,  0.1770],\n",
      "          [-0.1857,  0.1225, -0.1817,  0.1225,  0.1225],\n",
      "          [-0.3209,  0.0627,  0.0693,  0.1262,  0.0627]],\n",
      "\n",
      "         [[ 0.0546, -0.2182,  0.0546,  0.0546,  0.0546],\n",
      "          [ 0.1207,  0.1207, -0.4830,  0.1207,  0.1207],\n",
      "          [-0.6926,  0.1687,  0.1865,  0.1687,  0.1687]]]], device='cuda:0')\n"
     ]
    }
   ],
   "source": [
    "print(torchaudio_logits_cuda.grad)"
   ]
  },
  {
   "cell_type": "code",
   "execution_count": 68,
   "id": "0b729bec-94a9-4148-9782-2ae109e16f23",
   "metadata": {},
   "outputs": [],
   "source": [
    "np.testing.assert_allclose(torchaudio_logits.grad.numpy(), torchaudio_logits_cuda.grad.cpu().numpy(), rtol=1e-6)"
   ]
  },
  {
   "cell_type": "code",
   "execution_count": 29,
   "id": "0ad21183-5f8a-48f1-8a1a-dce2625cad12",
   "metadata": {},
   "outputs": [],
   "source": []
  },
  {
   "cell_type": "markdown",
   "id": "e0328787-3e16-4016-a517-1f7028fac1ec",
   "metadata": {},
   "source": [
    "# check warp transducer with torchaudio "
   ]
  },
  {
   "cell_type": "code",
   "execution_count": 69,
   "id": "4f46fc30-8973-4568-952c-b336695fc89d",
   "metadata": {},
   "outputs": [],
   "source": [
    "np.testing.assert_allclose(warp_transducer_cpu_loss.detach().numpy(), torchaudio_cuda_loss.cpu().detach().numpy(), rtol=1e-7)"
   ]
  },
  {
   "cell_type": "code",
   "execution_count": 70,
   "id": "b4e1219b-ddcc-4954-9dcd-1502e3f7fe88",
   "metadata": {},
   "outputs": [],
   "source": [
    "np.testing.assert_allclose(warp_transducer_logits.grad.numpy(), torchaudio_logits.grad.numpy(), rtol=1e-6)"
   ]
  },
  {
   "cell_type": "code",
   "execution_count": 71,
   "id": "a3053ed3-25a5-44ac-adbc-7bf75a1339eb",
   "metadata": {},
   "outputs": [],
   "source": [
    "np.testing.assert_allclose(warp_transducer_logits_cuda.grad.cpu().numpy(), torchaudio_logits_cuda.grad.cpu().numpy(), rtol=1e-6)"
   ]
  },
  {
   "cell_type": "markdown",
   "id": "bad5757d-aec3-4eb1-ad9e-069159907406",
   "metadata": {
    "tags": []
   },
   "source": [
    "# optimized_transducer\n",
    "# https://github.com/csukuangfj/optimized_transducer"
   ]
  },
  {
   "cell_type": "code",
   "execution_count": 77,
   "id": "c6cf867c-da40-4a82-8fc4-93700179b461",
   "metadata": {},
   "outputs": [
    {
     "name": "stdout",
     "output_type": "stream",
     "text": [
      "Found existing installation: optimized-transducer 1.4\n",
      "Uninstalling optimized-transducer-1.4:\n",
      "  Successfully uninstalled optimized-transducer-1.4\n"
     ]
    }
   ],
   "source": [
    "!pip uninstall optimized_transducer -y"
   ]
  },
  {
   "cell_type": "code",
   "execution_count": 78,
   "id": "e6a49762-be49-4e9f-8262-f82fcb2d5c05",
   "metadata": {},
   "outputs": [
    {
     "name": "stdout",
     "output_type": "stream",
     "text": [
      "Using pip 22.3.1 from /workspace/DeepSpeech-2.x/speechx/venv/lib/python3.7/site-packages/pip (python 3.7)\n",
      "Collecting optimized_transducer\n",
      "  Using cached optimized_transducer-1.4.tar.gz (46 kB)\n",
      "  Running command python setup.py egg_info\n",
      "  running egg_info\n",
      "  creating /workspace/rnnt/warp-transducer-espnet/pip-pip-egg-info-1hltfrz7/optimized_transducer.egg-info\n",
      "  writing /workspace/rnnt/warp-transducer-espnet/pip-pip-egg-info-1hltfrz7/optimized_transducer.egg-info/PKG-INFO\n",
      "  writing dependency_links to /workspace/rnnt/warp-transducer-espnet/pip-pip-egg-info-1hltfrz7/optimized_transducer.egg-info/dependency_links.txt\n",
      "  writing top-level names to /workspace/rnnt/warp-transducer-espnet/pip-pip-egg-info-1hltfrz7/optimized_transducer.egg-info/top_level.txt\n",
      "  writing manifest file '/workspace/rnnt/warp-transducer-espnet/pip-pip-egg-info-1hltfrz7/optimized_transducer.egg-info/SOURCES.txt'\n",
      "  reading manifest file '/workspace/rnnt/warp-transducer-espnet/pip-pip-egg-info-1hltfrz7/optimized_transducer.egg-info/SOURCES.txt'\n",
      "  reading manifest template 'MANIFEST.in'\n",
      "  adding license file 'LICENSE'\n",
      "  writing manifest file '/workspace/rnnt/warp-transducer-espnet/pip-pip-egg-info-1hltfrz7/optimized_transducer.egg-info/SOURCES.txt'\n",
      "  Preparing metadata (setup.py) ... \u001b[?25l\u001b[?25hdone\n",
      "Building wheels for collected packages: optimized_transducer\n",
      "  Running command python setup.py bdist_wheel\n",
      "  running bdist_wheel\n",
      "  running build\n",
      "  running build_py\n",
      "  creating build\n",
      "  creating build/lib.linux-x86_64-cpython-37\n",
      "  creating build/lib.linux-x86_64-cpython-37/optimized_transducer\n",
      "  copying optimized_transducer/python/optimized_transducer/transducer_loss.py -> build/lib.linux-x86_64-cpython-37/optimized_transducer\n",
      "  copying optimized_transducer/python/optimized_transducer/__init__.py -> build/lib.linux-x86_64-cpython-37/optimized_transducer\n",
      "  running build_ext\n",
      "  Setting PYTHON_EXECUTABLE to /workspace/DeepSpeech-2.x/speechx/venv/bin/python\n",
      "  build command is:\n",
      "\n",
      "              cd build/temp.linux-x86_64-cpython-37\n",
      "\n",
      "              cmake -DOT_COMPUTE_ARCHS=37 -DCMAKE_BUILD_TYPE=Release -DPYTHON_EXECUTABLE=/workspace/DeepSpeech-2.x/speechx/venv/bin/python /workspace/rnnt/warp-transducer-espnet/pip-install-2hrm3jlh/optimized-transducer_6d31ca6ac61845d19ecff9dcde062c2c\n",
      "\n",
      "              make -j _optimized_transducer\n",
      "\n",
      "  -- Enabled languages: CXX;CUDA\n",
      "  -- The CXX compiler identification is GNU 8.2.0\n",
      "  -- The CUDA compiler identification is NVIDIA 10.2.89\n",
      "  -- Check for working CXX compiler: /usr/local/gcc-8.2/bin/c++\n",
      "  -- Check for working CXX compiler: /usr/local/gcc-8.2/bin/c++ -- works\n",
      "  -- Detecting CXX compiler ABI info\n",
      "  -- Detecting CXX compiler ABI info - done\n",
      "  -- Detecting CXX compile features\n",
      "  -- Detecting CXX compile features - done\n",
      "  -- Check for working CUDA compiler: /usr/local/cuda/bin/nvcc\n",
      "  -- Check for working CUDA compiler: /usr/local/cuda/bin/nvcc -- works\n",
      "  -- Detecting CUDA compiler ABI info\n",
      "  -- Detecting CUDA compiler ABI info - done\n",
      "  -- Autodetected CUDA architecture(s):  7.0 7.0 7.0 7.0 7.0 7.0 7.0 7.0\n",
      "  -- OT_COMPUTE_ARCH_FLAGS: -gencode;arch=compute_70,code=sm_70\n",
      "  -- OT_COMPUTE_ARCH_CANDIDATES 35;50;60;61;70;75\n",
      "  -- Skipping arch 35\n",
      "  -- Skipping arch 50\n",
      "  -- Skipping arch 60\n",
      "  -- Skipping arch 61\n",
      "  -- Adding arch 70\n",
      "  -- Skipping arch 75\n",
      "  -- OT_COMPUTE_ARCHS: 37;70\n",
      "  -- Downloading pybind11\n",
      "  -- pybind11 is downloaded to /workspace/rnnt/warp-transducer-espnet/pip-install-2hrm3jlh/optimized-transducer_6d31ca6ac61845d19ecff9dcde062c2c/build/temp.linux-x86_64-cpython-37/_deps/pybind11-src\n",
      "  -- pybind11 v2.6.0\n",
      "  -- Found PythonInterp: /workspace/DeepSpeech-2.x/speechx/venv/bin/python (found version \"3.7\")\n",
      "  -- Found PythonLibs: /usr/local/lib/libpython3.7m.so\n",
      "  -- Performing Test HAS_FLTO\n",
      "  -- Performing Test HAS_FLTO - Success\n",
      "  -- Python executable: /workspace/DeepSpeech-2.x/speechx/venv/bin/python\n",
      "  -- Looking for C++ include pthread.h\n",
      "  -- Looking for C++ include pthread.h - found\n",
      "  -- Performing Test CMAKE_HAVE_LIBC_PTHREAD\n",
      "  -- Performing Test CMAKE_HAVE_LIBC_PTHREAD - Failed\n",
      "  -- Looking for pthread_create in pthreads\n",
      "  -- Looking for pthread_create in pthreads - not found\n",
      "  -- Looking for pthread_create in pthread\n",
      "  -- Looking for pthread_create in pthread - found\n",
      "  -- Found Threads: TRUE\n",
      "  -- Found CUDA: /usr/local/cuda (found version \"10.2\")\n",
      "  -- Caffe2: CUDA detected: 10.2\n",
      "  -- Caffe2: CUDA nvcc is: /usr/local/cuda/bin/nvcc\n",
      "  -- Caffe2: CUDA toolkit directory: /usr/local/cuda\n",
      "  -- Caffe2: Header version is: 10.2\n",
      "  -- Found CUDNN: /usr/lib/x86_64-linux-gnu/libcudnn.so\n",
      "  -- Found cuDNN: v7.6.5  (include: /usr/include, library: /usr/lib/x86_64-linux-gnu/libcudnn.so)\n",
      "  -- /usr/local/cuda/lib64/libnvrtc.so shorthash is 08c4863f\n",
      "  -- Autodetected CUDA architecture(s):  7.0 7.0 7.0 7.0 7.0 7.0 7.0 7.0\n",
      "  -- Added CUDA NVCC flags for: -gencode;arch=compute_70,code=sm_70\n",
      "  CMake Warning at /workspace/DeepSpeech-2.x/speechx/venv/lib/python3.7/site-packages/torch/share/cmake/Torch/TorchConfig.cmake:22 (message):\n",
      "    static library kineto_LIBRARY-NOTFOUND not found.\n",
      "  Call Stack (most recent call first):\n",
      "    /workspace/DeepSpeech-2.x/speechx/venv/lib/python3.7/site-packages/torch/share/cmake/Torch/TorchConfig.cmake:127 (append_torchlib_if_found)\n",
      "    cmake/torch.cmake:11 (find_package)\n",
      "    CMakeLists.txt:135 (include)\n",
      "\n",
      "\n",
      "  -- Found Torch: /workspace/DeepSpeech-2.x/speechx/venv/lib/python3.7/site-packages/torch/lib/libtorch.so\n",
      "  -- PyTorch version: 1.11.0+cu102\n",
      "  -- PyTorch cuda version: 10.2\n",
      "  -- Downloading moderngpu\n",
      "  -- moderngpu is downloaded to /workspace/rnnt/warp-transducer-espnet/pip-install-2hrm3jlh/optimized-transducer_6d31ca6ac61845d19ecff9dcde062c2c/build/temp.linux-x86_64-cpython-37/_deps/moderngpu-src\n",
      "  -- Configuring done\n",
      "  -- Generating done\n",
      "  -- Build files have been written to: /workspace/rnnt/warp-transducer-espnet/pip-install-2hrm3jlh/optimized-transducer_6d31ca6ac61845d19ecff9dcde062c2c/build/temp.linux-x86_64-cpython-37\n",
      "  Scanning dependencies of target optimized_transducer_core_cuda\n",
      "  [ 12%] Building CUDA object optimized_transducer/csrc/CMakeFiles/optimized_transducer_core_cuda.dir/cuda.cu.o\n",
      "  [ 25%] Building CUDA object optimized_transducer/csrc/CMakeFiles/optimized_transducer_core_cuda.dir/kernels.cu.o\n",
      "  [ 37%] Linking CUDA shared library ../../lib/liboptimized_transducer_core_cuda.so\n",
      "  [ 37%] Built target optimized_transducer_core_cuda\n",
      "  Scanning dependencies of target optimized_transducer_core\n",
      "  [ 50%] Building CXX object optimized_transducer/csrc/CMakeFiles/optimized_transducer_core.dir/transducer-loss.cc.o\n",
      "  [ 62%] Building CXX object optimized_transducer/csrc/CMakeFiles/optimized_transducer_core.dir/cpu.cc.o\n",
      "  [ 75%] Linking CXX shared library ../../lib/liboptimized_transducer_core.so\n",
      "  [ 75%] Built target optimized_transducer_core\n",
      "  Scanning dependencies of target _optimized_transducer\n",
      "  [ 87%] Building CXX object optimized_transducer/python/csrc/CMakeFiles/_optimized_transducer.dir/optimized_transducer.cc.o\n",
      "  [100%] Linking CXX shared module ../../../lib/_optimized_transducer.cpython-37m-x86_64-linux-gnu.so\n",
      "  [100%] Built target _optimized_transducer\n",
      "  Copying build/temp.linux-x86_64-cpython-37/lib/liboptimized_transducer_core_cuda.so to build/lib.linux-x86_64-cpython-37/\n",
      "  Copying build/temp.linux-x86_64-cpython-37/lib/liboptimized_transducer_core.so to build/lib.linux-x86_64-cpython-37/\n",
      "  Copying build/temp.linux-x86_64-cpython-37/lib/_optimized_transducer.cpython-37m-x86_64-linux-gnu.so to build/lib.linux-x86_64-cpython-37/\n",
      "  Copying /workspace/rnnt/warp-transducer-espnet/pip-install-2hrm3jlh/optimized-transducer_6d31ca6ac61845d19ecff9dcde062c2c/optimized_transducer/python/optimized_transducer/torch_version.py to build/lib.linux-x86_64-cpython-37/optimized_transducer\n",
      "  /workspace/DeepSpeech-2.x/speechx/venv/lib/python3.7/site-packages/setuptools/command/install.py:37: SetuptoolsDeprecationWarning: setup.py install is deprecated. Use build and pip and other standards-based tools.\n",
      "    setuptools.SetuptoolsDeprecationWarning,\n",
      "  installing to build/bdist.linux-x86_64/wheel\n",
      "  running install\n",
      "  running install_lib\n",
      "  creating build/bdist.linux-x86_64\n",
      "  creating build/bdist.linux-x86_64/wheel\n",
      "  copying build/lib.linux-x86_64-cpython-37/liboptimized_transducer_core_cuda.so -> build/bdist.linux-x86_64/wheel\n",
      "  creating build/bdist.linux-x86_64/wheel/optimized_transducer\n",
      "  copying build/lib.linux-x86_64-cpython-37/optimized_transducer/transducer_loss.py -> build/bdist.linux-x86_64/wheel/optimized_transducer\n",
      "  copying build/lib.linux-x86_64-cpython-37/optimized_transducer/__init__.py -> build/bdist.linux-x86_64/wheel/optimized_transducer\n",
      "  copying build/lib.linux-x86_64-cpython-37/optimized_transducer/torch_version.py -> build/bdist.linux-x86_64/wheel/optimized_transducer\n",
      "  copying build/lib.linux-x86_64-cpython-37/liboptimized_transducer_core.so -> build/bdist.linux-x86_64/wheel\n",
      "  copying build/lib.linux-x86_64-cpython-37/_optimized_transducer.cpython-37m-x86_64-linux-gnu.so -> build/bdist.linux-x86_64/wheel\n",
      "  running install_egg_info\n",
      "  running egg_info\n",
      "  writing optimized_transducer.egg-info/PKG-INFO\n",
      "  writing dependency_links to optimized_transducer.egg-info/dependency_links.txt\n",
      "  writing top-level names to optimized_transducer.egg-info/top_level.txt\n",
      "  reading manifest file 'optimized_transducer.egg-info/SOURCES.txt'\n",
      "  reading manifest template 'MANIFEST.in'\n",
      "  adding license file 'LICENSE'\n",
      "  writing manifest file 'optimized_transducer.egg-info/SOURCES.txt'\n",
      "  Copying optimized_transducer.egg-info to build/bdist.linux-x86_64/wheel/optimized_transducer-1.4-py3.7.egg-info\n",
      "  running install_scripts\n",
      "  adding license file \"LICENSE\" (matched pattern \"LICEN[CS]E*\")\n",
      "  creating build/bdist.linux-x86_64/wheel/optimized_transducer-1.4.dist-info/WHEEL\n",
      "  creating '/workspace/rnnt/warp-transducer-espnet/pip-wheel-lgzojw3q/optimized_transducer-1.4-cp37-cp37m-linux_x86_64.whl' and adding 'build/bdist.linux-x86_64/wheel' to it\n",
      "  adding '_optimized_transducer.cpython-37m-x86_64-linux-gnu.so'\n",
      "  adding 'liboptimized_transducer_core.so'\n",
      "  adding 'liboptimized_transducer_core_cuda.so'\n",
      "  adding 'optimized_transducer/__init__.py'\n",
      "  adding 'optimized_transducer/torch_version.py'\n",
      "  adding 'optimized_transducer/transducer_loss.py'\n",
      "  adding 'optimized_transducer-1.4.dist-info/LICENSE'\n",
      "  adding 'optimized_transducer-1.4.dist-info/METADATA'\n",
      "  adding 'optimized_transducer-1.4.dist-info/WHEEL'\n",
      "  adding 'optimized_transducer-1.4.dist-info/top_level.txt'\n",
      "  adding 'optimized_transducer-1.4.dist-info/RECORD'\n",
      "  removing build/bdist.linux-x86_64/wheel\n",
      "  Building wheel for optimized_transducer (setup.py) ... \u001b[?25l\u001b[?25hdone\n",
      "  Created wheel for optimized_transducer: filename=optimized_transducer-1.4-cp37-cp37m-linux_x86_64.whl size=190815 sha256=5fe4f8a5aa15baa5f86269833c723614950d541ef6f5d1ee59ce44324fe16bc0\n",
      "  Stored in directory: /root/.cache/pip/wheels/c2/ac/00/0d73834de06ad12f79af66e9c7385ba0334fb938fecd7ccf7e\n",
      "Successfully built optimized_transducer\n",
      "Installing collected packages: optimized_transducer\n",
      "Successfully installed optimized_transducer-1.4\n"
     ]
    }
   ],
   "source": [
    "!TMPDIR=$PWD OT_CMAKE_ARGS=\"-DOT_COMPUTE_ARCHS=37 -DCMAKE_BUILD_TYPE=Release\" OT_MAKE_ARGS=\"-j\" pip install --verbose optimized_transducer"
   ]
  },
  {
   "cell_type": "code",
   "execution_count": 80,
   "id": "e588e8d9-cc97-4934-af00-1c728dd3d68a",
   "metadata": {},
   "outputs": [],
   "source": [
    "import optimized_transducer"
   ]
  },
  {
   "cell_type": "code",
   "execution_count": 81,
   "id": "d888e3ca-3ef0-46dc-a02b-23c6c2323a4c",
   "metadata": {},
   "outputs": [],
   "source": [
    "optimized_transducer_cpu_loss = optimized_transducer.transducer_loss(optimized_transducer_logits.reshape(-1, logits.size(-1)),\n",
    "                                                                    targets,\n",
    "                                                                    logit_lengths,\n",
    "                                                                    target_lengths,\n",
    "                                                                    blank=0,\n",
    "                                                                    from_log_softmax=False,\n",
    "                                                                    reduction='mean'\n",
    "                                                                    )\n",
    "optimized_transducer_cuda_loss = optimized_transducer.transducer_loss(optimized_transducer_logits_cuda.reshape(-1, logits.size(-1)),\n",
    "                                                                     targets_cuda,\n",
    "                                                                     logit_lengths_cuda,\n",
    "                                                                     target_lengths_cuda,\n",
    "                                                                     blank=0,\n",
    "                                                                     from_log_softmax=False,\n",
    "                                                                     reduction='mean'\n",
    "                                                                     )"
   ]
  },
  {
   "cell_type": "code",
   "execution_count": 82,
   "id": "e3eaa117-2244-4752-84bd-907961769913",
   "metadata": {},
   "outputs": [
    {
     "name": "stdout",
     "output_type": "stream",
     "text": [
      "optimized_transducer, cpu_loss: 4.495666980743408, cuda_loss: 4.495666980743408\n"
     ]
    }
   ],
   "source": [
    "print(f'optimized_transducer, cpu_loss: {optimized_transducer_cpu_loss}, cuda_loss: {optimized_transducer_cuda_loss}')"
   ]
  },
  {
   "cell_type": "code",
   "execution_count": 84,
   "id": "1edad365-3d63-4744-91d0-3f7afb0b5a6e",
   "metadata": {},
   "outputs": [],
   "source": [
    "np.testing.assert_allclose(optimized_transducer_cpu_loss.detach().numpy(), optimized_transducer_cuda_loss.cpu().detach().numpy(), rtol=1e-7)"
   ]
  },
  {
   "cell_type": "code",
   "execution_count": 85,
   "id": "c64ad044-b741-4aef-821f-2a0283a87fb8",
   "metadata": {},
   "outputs": [],
   "source": [
    "optimized_transducer_cpu_loss.backward()\n",
    "optimized_transducer_cuda_loss.backward()"
   ]
  },
  {
   "cell_type": "code",
   "execution_count": 86,
   "id": "3da7ca47-be81-440d-b954-e535d107db35",
   "metadata": {},
   "outputs": [
    {
     "name": "stdout",
     "output_type": "stream",
     "text": [
      "tensor([[[[-0.1312, -0.3999,  0.1770,  0.1770,  0.1770],\n",
      "          [-0.1857,  0.1225, -0.1817,  0.1225,  0.1225],\n",
      "          [-0.3209,  0.0627,  0.0693,  0.1262,  0.0627]],\n",
      "\n",
      "         [[ 0.0546, -0.2182,  0.0546,  0.0546,  0.0546],\n",
      "          [ 0.1207,  0.1207, -0.4830,  0.1207,  0.1207],\n",
      "          [-0.6926,  0.1687,  0.1865,  0.1687,  0.1687]]]])\n",
      "tensor([[[[-0.1312, -0.3999,  0.1770,  0.1770,  0.1770],\n",
      "          [-0.1857,  0.1225, -0.1817,  0.1225,  0.1225],\n",
      "          [-0.3209,  0.0627,  0.0693,  0.1262,  0.0627]],\n",
      "\n",
      "         [[ 0.0546, -0.2182,  0.0546,  0.0546,  0.0546],\n",
      "          [ 0.1207,  0.1207, -0.4830,  0.1207,  0.1207],\n",
      "          [-0.6926,  0.1687,  0.1865,  0.1687,  0.1687]]]], device='cuda:0')\n"
     ]
    }
   ],
   "source": [
    "print(optimized_transducer_logits.grad)\n",
    "print(optimized_transducer_logits_cuda.grad)"
   ]
  },
  {
   "cell_type": "code",
   "execution_count": 91,
   "id": "2df3f240-048e-4aa4-866b-bd6c1eb4965b",
   "metadata": {},
   "outputs": [],
   "source": [
    "np.testing.assert_allclose(optimized_transducer_logits.grad.numpy(), optimized_transducer_logits_cuda.grad.cpu().numpy(), rtol=1e-6)"
   ]
  },
  {
   "cell_type": "code",
   "execution_count": 92,
   "id": "006cc844-13e0-4357-876c-fd4a9e2161c0",
   "metadata": {},
   "outputs": [],
   "source": [
    "assert torch.allclose(torchaudio_logits.grad, optimized_transducer_logits.grad)\n",
    "assert torch.allclose(torchaudio_logits_cuda.grad, optimized_transducer_logits_cuda.grad)\n",
    "assert torch.allclose(torchaudio_logits.grad, optimized_transducer_logits_cuda.grad.cpu())"
   ]
  }
 ],
 "metadata": {
  "kernelspec": {
   "display_name": "Python 3 (ipykernel)",
   "language": "python",
   "name": "python3"
  },
  "language_info": {
   "codemirror_mode": {
    "name": "ipython",
    "version": 3
   },
   "file_extension": ".py",
   "mimetype": "text/x-python",
   "name": "python",
   "nbconvert_exporter": "python",
   "pygments_lexer": "ipython3",
   "version": "3.7.0"
  }
 },
 "nbformat": 4,
 "nbformat_minor": 5
}
